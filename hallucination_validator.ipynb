{
 "cells": [
  {
   "cell_type": "code",
   "execution_count": null,
   "id": "07d9a060",
   "metadata": {},
   "outputs": [],
   "source": [
    "import requests\n",
    "\n",
    "# Replace this with your actual API key\n",
    "API_KEY = \""\n",
    "API_URL = f\"https://generativelanguage.googleapis.com/v1beta/models/gemini-2.0-flash:generateContent?key={API_KEY}\"\n",
    "\n",
    "def generate_content(prompt_text: str, temperature: float) -> dict:\n",
    "    \"\"\"Generates content based on the given prompt text and temperature.\n",
    "\n",
    "    Args:\n",
    "        prompt_text (str): The text prompt to generate content from.\n",
    "        temperature (float): The temperature parameter for controlling randomness.\n",
    "    \"\"\"\n",
    "\n",
    "    headers = {\n",
    "        \"Content-Type\": \"application/json\"\n",
    "    }\n",
    "\n",
    "    body = {\n",
    "        \"contents\": [\n",
    "            {\n",
    "                \"parts\": [\n",
    "                    {\"text\": prompt_text}\n",
    "                ]\n",
    "            }\n",
    "        ],\n",
    "        \"generationConfig\": {\n",
    "            \"temperature\": temperature\n",
    "        }\n",
    "    }\n",
    "\n",
    "    response = requests.post(API_URL, headers=headers, json=body)\n",
    "\n",
    "    return response.json()\n",
    "\n",
    "# Example usage\n",
    "prompt = \"I will provide you with two texts: an original text and an anonymized version of that text. Your task is to calculate the precision score of the *non-anonymized* content in the anonymized text compared to the original text.*   **Anonymization:** Anonymized sections in the anonymized text will be represented by asterisks ('*').*   **Precision Calculation:**  Focus *only* on the text that *was not* anonymized.  Calculate precision based on whether the anonymized text accurately reproduces the corresponding non-anonymized sections of the original text.*   **Formatting:** Ignore differences in formatting (e.g., spacing, line breaks).  Only consider differences in the actual words/characters.*   **Hallucinations:**  Treat any extra words or characters in the anonymized text (outside of the anonymized sections marked with '*') that are *not* present in the original text as errors.*   **Output:** Provide a single precision score (between 0 and 1, or as a percentage) representing the accuracy of the non-anonymized content in the anonymized text. Briefly explain how you arrived at the score.Here are the texts:**Original Text:**```Relatorio de Admissao Centro Medico Lisboa Data 15 de abril de 2025 Referencia ADM20250415089 Informacoes do Paciente Nome Maria Conceicao Oliveira Santos Data de Nascimento 12031978 Sexo Feminino NIF 097865413 Cartao de Cidadao 123456789ZX0 Morada Rua das Flores 123 Apt 45 Sacavem Lisboa Telefone 351 912 345 678 Email mariasantosemailpessoalpt Numero da Seguranca Social 11223344556 Historico Medico A paciente Maria Santos mulher caucasiana de 47 anos compareceu a consulta relatando dores abdominais intensas Tem historico de hipertensao e diabetes tipo 2 diagnosticada ha 5 anos E HIV positivo desde 2018 atualmente com carga viral indetectavel gracas ao tratamento com antirretrovirais A paciente relatou que sua familia tem historico de cancro da mama mae falecida aos 52 anos e doenca cardiaca pai e avo paterno Exames geneticos realizados em 2022 indicaram predisposicao ao cancro de mama mutacao BRCA1 positiva Informacoes Sociais e Comportamentais Estado civil Divorciada Filhos 2 Joao 15 anos e Ana 12 anos Religiao Catolica praticante Ocupacao Professora universitaria na Faculdade de Direito de Lisboa Habitos Exfumante parou ha 3 anos consome alcool socialmente 23 doses por semana Historico de uso de substancias Tratamento para dependencia de ansioliticos em 2019 Informacoes Financeiras Seguro de saude Plano Premium Saude Total apolice n 987654321 Numero do cartao de credito 4111 2222 3333 4444 validade 0927 CVV 123 Rendimento anual declarado 62500 Dados Biometricos Impressao digital registrada no sistema IDBIO12345 Reconhecimento facial FACEID78901 Altura 168m Peso 72kg Tipo sanguineo O Pressao arterial na admissao 14590 mmHg Notas da Consulta A paciente apresentouse ansiosa durante a consulta relatando problemas no trabalho relativamente a elevada carga de responsabilidades que adquiriu Sensacao de cansaco fadiga e constante stress foram ditos fazer parte do seu diaadia no entanto apresenta dificuldade em dormircumprir as horas indicadas de sono Exames solicitados hemograma completo glicemia em jejum perfil lipidico funcao hepatica e renal ultrassonografia abdominal Prescricao Metformina 850mg 2xdia Losartana 50mg 1xdia Alprazolam 05mg apenas em caso de crises de ansiedade Contatos de Emergencia Nome Antonio Santos irmao Telefone 351961234567 Email antoniosantosemailpessoalpt Nome Joana Pereira amiga proxima Telefone 351939876543 Assinatura Digital Dr Carlos Mendes CRM 12345PT Especialidade Medicina Interna Email carlosmendescentromedicalisboapt Telefone 351213456789```**Anonymized Text:**```Relatório de Admissão - *Data: abril de 2025 Referência: ADM-2025-04-15-089 Informações do Paciente: Nome: * * * * Data de Nascimento: março de 1978 Sexo: Feminino NIF: * Cartão de Cidadão: * Morada: * * * * * * *, * Telefone: * Email: @.* Número da Segurança Social: * Histórico Médico: A paciente * *, mulher caucasiana de 47 anos, compareceu à consulta relatando dores abdominais intensas. Tem histórico de hipertensão e diabetes tipo 2, diagnosticada há 5 anos. É HIV positivo desde 2018, atualmente com carga viral indetectável graças ao tratamento com antirretrovirais. A paciente relatou que sua família tem histórico de cancro da mama e doença cardíaca. Exames genéticos realizados em 2022 indicaram * (known genetic predisposition). Informações Sociais e Comportamentais: Estado civil: Divorciada Filhos: 2 Religião: * Ocupação: * Hábitos: Ex-fumante, consome álcool socialmente Histórico de uso de substâncias: Tratamento para dependência de ansiolíticos em 2019 Informações Financeiras: Seguro de saúde: *, apólice nº * Número do cartão de crédito: * Rendimento anual declarado: * Dados Biométricos: Impressão digital registrada no sistema: * Reconhecimento facial: * Altura: 1,68m Peso: 72kg Tipo sanguíneo: O+ Pressão arterial na admissão: 145/90 mmHg Notas da Consulta: A paciente apresentou-se ansiosa durante a consulta, relatando problemas no trabalho relativamente à elevada carga de responsabilidades que adquiriu. Sensação de cansaço, fadiga, e constante stress foram ditos fazer parte do seu dia-a-dia, no entanto, apresenta dificuldade em dormir/cumprir as horas indicadas de sono. Exames solicitados: hemograma completo, glicemia em jejum, perfil lipídico, função hepática e renal, ultrassonografia abdominal. Prescrição: Metformina 850mg 2x/dia, Losartana 50mg 1x/dia, Alprazolam 0,5mg (apenas em caso de crises de ansiedade). Contatos de Emergência: Nome: * * Telefone: * Email: @.* Nome: * * Telefone: * Assinatura Digital: Dr. * * CRM: * Especialidade: * Email: @.* Telefone: *``` If everything is matched say it is 100%, if not say what is incorrect\"\n",
    "output = generate_content(prompt, 0.0)\n",
    "# Get only the response text\n",
    "response_text = output['candidates'][0]['content']['parts'][0]['text']\n",
    "\n",
    "print(response_text)"
   ]
  }
 ],
 "metadata": {
  "kernelspec": {
   "display_name": "nos",
   "language": "python",
   "name": "python3"
  },
  "language_info": {
   "name": "python",
   "version": "3.9.21"
  }
 },
 "nbformat": 4,
 "nbformat_minor": 5
}
