{
 "cells": [
  {
   "cell_type": "code",
   "execution_count": null,
   "id": "c0d18e51",
   "metadata": {},
   "outputs": [
    {
     "name": "stderr",
     "output_type": "stream",
     "text": [
      "\n",
      "[notice] A new release of pip is available: 24.3.1 -> 25.1.1\n",
      "[notice] To update, run: python.exe -m pip install --upgrade pip\n"
     ]
    }
   ],
   "source": [
    "%pip install PyMuPDF --quiet"
   ]
  },
  {
   "cell_type": "code",
   "execution_count": 1,
   "id": "ac0f1bef",
   "metadata": {},
   "outputs": [],
   "source": [
    "import fitz"
   ]
  },
  {
   "cell_type": "code",
   "execution_count": 2,
   "id": "8dc83fcb",
   "metadata": {},
   "outputs": [
    {
     "name": "stderr",
     "output_type": "stream",
     "text": [
      "<>:1: SyntaxWarning: invalid escape sequence '\\d'\n",
      "<>:1: SyntaxWarning: invalid escape sequence '\\d'\n",
      "C:\\Users\\tiago\\AppData\\Local\\Temp\\ipykernel_12208\\3935151491.py:1: SyntaxWarning: invalid escape sequence '\\d'\n",
      "  pdf_path = \"raw_data\\document_to_anonymize.pdf\"\n"
     ]
    }
   ],
   "source": [
    "pdf_path = \"raw_data\\document_to_anonymize.pdf\""
   ]
  },
  {
   "cell_type": "code",
   "execution_count": 3,
   "id": "eb7a333f",
   "metadata": {},
   "outputs": [],
   "source": [
    "def extract_text_from_pdf(path: str) -> str:\n",
    "    \"\"\"\n",
    "    Extracts text content from all pages of a PDF file while preserving paragraph structure.\n",
    "\n",
    "    Parameters:\n",
    "        path (str): The file path to the PDF document.\n",
    "\n",
    "    Returns:\n",
    "        str: The extracted text from the entire PDF.\n",
    "    \"\"\"\n",
    "    text = \"\"\n",
    "    with fitz.open(path) as doc:\n",
    "        for page in doc:\n",
    "            blocks = page.get_text(\"blocks\")\n",
    "            blocks = sorted(blocks, key=lambda b: b[1])\n",
    "            for block in blocks:\n",
    "                text += block[4] + \"\\n\\n\"\n",
    "    return text.strip()"
   ]
  },
  {
   "cell_type": "code",
   "execution_count": 7,
   "id": "1286579e",
   "metadata": {},
   "outputs": [],
   "source": [
    "import unicodedata\n",
    "import re\n",
    "\n",
    "def remove_all_special_characters(text: str) -> str:\n",
    "    \"\"\"\n",
    "    Normalizes and cleans a text string by removing accents, punctuation, and special characters.\n",
    "\n",
    "    Steps:\n",
    "        1. Converts accented characters to their ASCII equivalents.\n",
    "        2. Removes all characters except letters, numbers, and spaces.\n",
    "        3. Collapses multiple spaces into a single space.\n",
    "\n",
    "    Parameters:\n",
    "        text (str): The input string to be cleaned.\n",
    "\n",
    "    Returns:\n",
    "        str: The cleaned and normalized string.\n",
    "    \"\"\"\n",
    "    text = unicodedata.normalize(\"NFD\", text)\n",
    "    text = text.encode(\"ascii\", \"ignore\").decode(\"utf-8\")\n",
    "\n",
    "    text = re.sub(r\"[^\\w\\s\\n]\", \"\", text)\n",
    "    text = re.sub(r\"[ \\t]+\", \" \", text)\n",
    "\n",
    "    return text.strip()"
   ]
  },
  {
   "cell_type": "code",
   "execution_count": 8,
   "id": "2d7a76fa",
   "metadata": {},
   "outputs": [],
   "source": [
    "raw_text = extract_text_from_pdf(pdf_path)\n",
    "raw_text_cleaned = remove_all_special_characters(raw_text)"
   ]
  },
  {
   "cell_type": "code",
   "execution_count": 9,
   "id": "4e57c25d",
   "metadata": {},
   "outputs": [
    {
     "name": "stdout",
     "output_type": "stream",
     "text": [
      "\n",
      "--- Preview of Extracted Text ---\n",
      "\n",
      "Relatorio de Admissao Centro Medico Lisboa \n",
      "\n",
      "\n",
      "Data 15 de abril de 2025 \n",
      "Referencia ADM20250415089 \n",
      "\n",
      "\n",
      "Informacoes do Paciente \n",
      "\n",
      "\n",
      "Nome Maria Conceicao Oliveira Santos \n",
      "\n",
      "\n",
      "Data de Nascimento 12031978 \n",
      "\n",
      "\n",
      "Sexo Feminino \n",
      "\n",
      "\n",
      "NIF 097865413 \n",
      "\n",
      "\n",
      "Cartao de Cidadao 123456789ZX0 \n",
      "Morada Rua das Flores 123 Apt 45 Sacavem Lisboa \n",
      "Telefone 351 912 345 678 \n",
      "Email mariasantosemailpessoalpt \n",
      "Numero da Seguranca Social 11223344556 \n",
      "\n",
      "\n",
      "Historico Medico \n",
      "\n",
      "\n",
      "A paciente Maria Santos mulher caucasiana de 47 anos compareceu a consulta relatando dores \n",
      "abdominais intensas Tem historico de hipertensao e diabetes tipo 2 diagnosticada ha 5 anos E \n",
      "HIV positivo desde 2018 atualmente com carga viral indetectavel gracas ao tratamento com \n",
      "antirretrovirais \n",
      "\n",
      "\n",
      "A paciente relatou que sua familia tem historico de cancro da mama mae falecida aos 52 anos \n",
      "e doenca cardiaca pai e avo paterno Exames geneticos realizados em 2022 indicaram \n",
      "predisposicao ao cancro de mama mutacao BRCA1 positiva \n",
      "\n",
      "\n",
      "Informacoes Sociais e Comportamentais \n",
      "\n",
      "\n",
      "Estado civil Divorciada \n",
      "Filhos 2 Joao 15 anos e Ana 12 anos \n",
      "Religiao Catolica praticante \n",
      "Ocupacao Professora universitaria na Faculdade de Direito de Lisboa \n",
      "Habitos Exfumante parou ha 3 anos consome alcool socialmente 23 doses por semana \n",
      "Historico de uso de substancias Tratamento para dependencia de ansioliticos em 2019 \n",
      "\n",
      "\n",
      "Informacoes Financeiras \n",
      "\n",
      "\n",
      "Seguro de saude Plano Premium Saude Total apolice n 987654321 \n",
      "Numero do cartao de credito 4111 2222 3333 4444 validade 0927 CVV 123 \n",
      "Rendimento anual declarado 62500 \n",
      "\n",
      "\n",
      "Dados Biometricos \n",
      "\n",
      "\n",
      "Impressao digital registrada no sistema IDBIO12345 \n",
      "Reconhecimento facial FACEID78901 \n",
      "Altura 168m \n",
      "Peso 72kg \n",
      "Tipo sanguineo O \n",
      "Pressao arterial na admissao 14590 mmHg \n",
      "\n",
      "\n",
      "Notas da Consulta \n",
      "\n",
      "\n",
      "A paciente apresentouse ansiosa durante a consulta relatando problemas no trabalho \n",
      "relativamente a elevada carga de responsabilidades que adquiriu Sensacao de cansaco fadiga \n",
      "e constante stress foram ditos fazer parte do seu diaadia no entanto apresenta dificuldade em \n",
      "dormircumprir as horas indicadas de sono \n",
      "\n",
      "\n",
      "Exames solicitados hemograma completo glicemia em jejum perfil lipidico funcao hepatica e \n",
      "renal ultrassonografia abdominal \n",
      "\n",
      "\n",
      "Prescricao Metformina 850mg 2xdia Losartana 50mg 1xdia Alprazolam 05mg apenas em \n",
      "caso de crises de ansiedade \n",
      "\n",
      "\n",
      "Contatos de Emergencia \n",
      "\n",
      "\n",
      "Nome Antonio Santos irmao \n",
      "Telefone 351961234567 \n",
      "Email antoniosantosemailpessoalpt \n",
      "\n",
      "\n",
      "Nome Joana Pereira amiga proxima \n",
      "Telefone 351939876543 \n",
      "\n",
      "\n",
      "Assinatura Digital \n",
      "\n",
      "\n",
      "Dr Carlos Mendes \n",
      "CRM 12345PT \n",
      "Especialidade Medicina Interna \n",
      "Email carlosmendescentromedicalisboapt \n",
      "Telefone 351213456789\n"
     ]
    }
   ],
   "source": [
    "print(\"\\n--- Preview of Extracted Text ---\\n\")\n",
    "print(raw_text_cleaned)"
   ]
  },
  {
   "cell_type": "code",
   "execution_count": 10,
   "id": "b1d3013c",
   "metadata": {},
   "outputs": [
    {
     "name": "stdout",
     "output_type": "stream",
     "text": [
      "✅ Text extracted and saved to: raw_data\\document_to_anonymize.txt\n"
     ]
    }
   ],
   "source": [
    "txt_path = pdf_path.replace(\".pdf\", \".txt\")\n",
    "with open(txt_path, \"w\", encoding=\"utf-8\") as f:\n",
    "    f.write(raw_text_cleaned)\n",
    "\n",
    "print(f\"✅ Text extracted and saved to: {txt_path}\")"
   ]
  }
 ],
 "metadata": {
  "kernelspec": {
   "display_name": "venv",
   "language": "python",
   "name": "python3"
  },
  "language_info": {
   "codemirror_mode": {
    "name": "ipython",
    "version": 3
   },
   "file_extension": ".py",
   "mimetype": "text/x-python",
   "name": "python",
   "nbconvert_exporter": "python",
   "pygments_lexer": "ipython3",
   "version": "3.13.1"
  }
 },
 "nbformat": 4,
 "nbformat_minor": 5
}
