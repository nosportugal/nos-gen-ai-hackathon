{
 "cells": [
  {
   "cell_type": "code",
   "execution_count": null,
   "id": "c0d18e51",
   "metadata": {},
   "outputs": [
    {
     "name": "stderr",
     "output_type": "stream",
     "text": [
      "\n",
      "[notice] A new release of pip is available: 24.3.1 -> 25.1.1\n",
      "[notice] To update, run: python.exe -m pip install --upgrade pip\n"
     ]
    }
   ],
   "source": [
    "%pip install PyMuPDF --quiet"
   ]
  },
  {
   "cell_type": "code",
   "execution_count": 2,
   "id": "ac0f1bef",
   "metadata": {},
   "outputs": [],
   "source": [
    "import fitz"
   ]
  },
  {
   "cell_type": "code",
   "execution_count": 3,
   "id": "8dc83fcb",
   "metadata": {},
   "outputs": [
    {
     "name": "stderr",
     "output_type": "stream",
     "text": [
      "<>:1: SyntaxWarning: invalid escape sequence '\\d'\n",
      "<>:1: SyntaxWarning: invalid escape sequence '\\d'\n",
      "C:\\Users\\tiago\\AppData\\Local\\Temp\\ipykernel_4084\\3935151491.py:1: SyntaxWarning: invalid escape sequence '\\d'\n",
      "  pdf_path = \"raw_data\\document_to_anonymize.pdf\"\n"
     ]
    }
   ],
   "source": [
    "pdf_path = \"raw_data\\document_to_anonymize.pdf\""
   ]
  },
  {
   "cell_type": "code",
   "execution_count": 9,
   "id": "eb7a333f",
   "metadata": {},
   "outputs": [],
   "source": [
    "def extract_text_from_pdf(path: str) -> str:\n",
    "    \"\"\"\n",
    "      Extracts text content from all pages of a PDF file.\n",
    "\n",
    "      Parameters:\n",
    "          path (str): The file path to the PDF document.\n",
    "\n",
    "      Returns:\n",
    "          str: The extracted text from the entire PDF.\n",
    "    \"\"\"\n",
    "    text = \"\"\n",
    "    with fitz.open(path) as doc:\n",
    "        for page in doc:\n",
    "            text += page.get_text(\"blocks\")\n",
    "    return text"
   ]
  },
  {
   "cell_type": "code",
   "execution_count": 5,
   "id": "1286579e",
   "metadata": {},
   "outputs": [],
   "source": [
    "import unicodedata\n",
    "import re\n",
    "\n",
    "def remove_all_special_characters(text: str) -> str:\n",
    "    \"\"\"\n",
    "    Normalizes and cleans a text string by removing accents, punctuation, and special characters.\n",
    "\n",
    "    Steps:\n",
    "        1. Converts accented characters to their ASCII equivalents.\n",
    "        2. Removes all characters except letters, numbers, and spaces.\n",
    "        3. Collapses multiple spaces into a single space.\n",
    "\n",
    "    Parameters:\n",
    "        text (str): The input string to be cleaned.\n",
    "\n",
    "    Returns:\n",
    "        str: The cleaned and normalized string.\n",
    "    \"\"\"\n",
    "    text = unicodedata.normalize(\"NFD\", text)\n",
    "    text = text.encode(\"ascii\", \"ignore\").decode(\"utf-8\")\n",
    "\n",
    "    text = re.sub(r\"[^a-zA-Z0-9\\s]\", \"\", text)\n",
    "    text = re.sub(r\"\\s+\", \" \", text)\n",
    "\n",
    "    return text.strip()"
   ]
  },
  {
   "cell_type": "code",
   "execution_count": 10,
   "id": "2d7a76fa",
   "metadata": {},
   "outputs": [
    {
     "ename": "TypeError",
     "evalue": "can only concatenate str (not \"list\") to str",
     "output_type": "error",
     "traceback": [
      "\u001b[31m---------------------------------------------------------------------------\u001b[39m",
      "\u001b[31mTypeError\u001b[39m                                 Traceback (most recent call last)",
      "\u001b[36mCell\u001b[39m\u001b[36m \u001b[39m\u001b[32mIn[10]\u001b[39m\u001b[32m, line 1\u001b[39m\n\u001b[32m----> \u001b[39m\u001b[32m1\u001b[39m raw_text = \u001b[43mextract_text_from_pdf\u001b[49m\u001b[43m(\u001b[49m\u001b[43mpdf_path\u001b[49m\u001b[43m)\u001b[49m\n\u001b[32m      2\u001b[39m raw_text_cleaned = remove_all_special_characters(raw_text)\n",
      "\u001b[36mCell\u001b[39m\u001b[36m \u001b[39m\u001b[32mIn[9]\u001b[39m\u001b[32m, line 14\u001b[39m, in \u001b[36mextract_text_from_pdf\u001b[39m\u001b[34m(path)\u001b[39m\n\u001b[32m     12\u001b[39m \u001b[38;5;28;01mwith\u001b[39;00m fitz.open(path) \u001b[38;5;28;01mas\u001b[39;00m doc:\n\u001b[32m     13\u001b[39m     \u001b[38;5;28;01mfor\u001b[39;00m page \u001b[38;5;129;01min\u001b[39;00m doc:\n\u001b[32m---> \u001b[39m\u001b[32m14\u001b[39m         \u001b[43mtext\u001b[49m\u001b[43m \u001b[49m\u001b[43m+\u001b[49m\u001b[43m=\u001b[49m\u001b[43m \u001b[49m\u001b[43mpage\u001b[49m\u001b[43m.\u001b[49m\u001b[43mget_text\u001b[49m\u001b[43m(\u001b[49m\u001b[33;43m\"\u001b[39;49m\u001b[33;43mblocks\u001b[39;49m\u001b[33;43m\"\u001b[39;49m\u001b[43m)\u001b[49m\n\u001b[32m     15\u001b[39m \u001b[38;5;28;01mreturn\u001b[39;00m text\n",
      "\u001b[31mTypeError\u001b[39m: can only concatenate str (not \"list\") to str"
     ]
    }
   ],
   "source": [
    "raw_text = extract_text_from_pdf(pdf_path)\n",
    "raw_text_cleaned = remove_all_special_characters(raw_text)"
   ]
  },
  {
   "cell_type": "code",
   "execution_count": 7,
   "id": "b1d3013c",
   "metadata": {},
   "outputs": [
    {
     "name": "stdout",
     "output_type": "stream",
     "text": [
      "✅ Text extracted and saved to: raw_data\\document_to_anonymize.txt\n"
     ]
    }
   ],
   "source": [
    "txt_path = pdf_path.replace(\".pdf\", \".txt\")\n",
    "with open(txt_path, \"w\", encoding=\"utf-8\") as f:\n",
    "    f.write(raw_text_cleaned)\n",
    "\n",
    "print(f\"✅ Text extracted and saved to: {txt_path}\")"
   ]
  },
  {
   "cell_type": "code",
   "execution_count": 8,
   "id": "4e57c25d",
   "metadata": {},
   "outputs": [
    {
     "name": "stdout",
     "output_type": "stream",
     "text": [
      "\n",
      "--- Preview of Extracted Text ---\n",
      "\n",
      "Relatorio de Admissao Centro Medico Lisboa Data 15 de abril de 2025 Referencia ADM20250415089 Informacoes do Paciente Nome Maria Conceicao Oliveira Santos Data de Nascimento 12031978 Sexo Feminino NIF 097865413 Cartao de Cidadao 123456789ZX0 Morada Rua das Flores 123 Apt 45 Sacavem Lisboa Telefone 351 912 345 678 Email mariasantosemailpessoalpt Numero da Seguranca Social 11223344556 Historico Medico A paciente Maria Santos mulher caucasiana de 47 anos compareceu a consulta relatando dores abdominais intensas Tem historico de hipertensao e diabetes tipo 2 diagnosticada ha 5 anos E HIV positivo desde 2018 atualmente com carga viral indetectavel gracas ao tratamento com antirretrovirais A paciente relatou que sua familia tem historico de cancro da mama mae falecida aos 52 anos e doenca cardiaca pai e avo paterno Exames geneticos realizados em 2022 indicaram predisposicao ao cancro de mama mutacao BRCA1 positiva Informacoes Sociais e Comportamentais Estado civil Divorciada Filhos 2 Joao 15 anos e Ana 12 anos Religiao Catolica praticante Ocupacao Professora universitaria na Faculdade de Direito de Lisboa Habitos Exfumante parou ha 3 anos consome alcool socialmente 23 doses por semana Historico de uso de substancias Tratamento para dependencia de ansioliticos em 2019 Informacoes Financeiras Seguro de saude Plano Premium Saude Total apolice n 987654321 Numero do cartao de credito 4111 2222 3333 4444 validade 0927 CVV 123 Rendimento anual declarado 62500 Dados Biometricos Impressao digital registrada no sistema IDBIO12345 Reconhecimento facial FACEID78901 Altura 168m Peso 72kg Tipo sanguineo O Pressao arterial na admissao 14590 mmHg Notas da Consulta A paciente apresentouse ansiosa durante a consulta relatando problemas no trabalho relativamente a elevada carga de responsabilidades que adquiriu Sensacao de cansaco fadiga e constante stress foram ditos fazer parte do seu diaadia no entanto apresenta dificuldade em dormircumprir as horas indicadas de sono Exames solicitados hemograma completo glicemia em jejum perfil lipidico funcao hepatica e renal ultrassonografia abdominal Prescricao Metformina 850mg 2xdia Losartana 50mg 1xdia Alprazolam 05mg apenas em caso de crises de ansiedade Contatos de Emergencia Nome Antonio Santos irmao Telefone 351961234567 Email antoniosantosemailpessoalpt Nome Joana Pereira amiga proxima Telefone 351939876543 Assinatura Digital Dr Carlos Mendes CRM 12345PT Especialidade Medicina Interna Email carlosmendescentromedicalisboapt Telefone 351213456789\n"
     ]
    }
   ],
   "source": [
    "print(\"\\n--- Preview of Extracted Text ---\\n\")\n",
    "print(raw_text_cleaned)"
   ]
  }
 ],
 "metadata": {
  "kernelspec": {
   "display_name": "venv",
   "language": "python",
   "name": "python3"
  },
  "language_info": {
   "codemirror_mode": {
    "name": "ipython",
    "version": 3
   },
   "file_extension": ".py",
   "mimetype": "text/x-python",
   "name": "python",
   "nbconvert_exporter": "python",
   "pygments_lexer": "ipython3",
   "version": "3.13.1"
  }
 },
 "nbformat": 4,
 "nbformat_minor": 5
}
